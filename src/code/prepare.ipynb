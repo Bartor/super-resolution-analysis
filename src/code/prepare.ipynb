{
 "cells": [
  {
   "cell_type": "code",
   "execution_count": 1,
   "metadata": {},
   "outputs": [
    {
     "ename": "ModuleNotFoundError",
     "evalue": "No module named 'tqdm'",
     "output_type": "error",
     "traceback": [
      "\u001b[1;31m---------------------------------------------------------------------------\u001b[0m",
      "\u001b[1;31mModuleNotFoundError\u001b[0m                       Traceback (most recent call last)",
      "\u001b[1;32mc:\\Users\\Bartor\\Desktop\\super-resolution-analysis\\code\\prepare.ipynb Cell 1'\u001b[0m in \u001b[0;36m<cell line: 1>\u001b[1;34m()\u001b[0m\n\u001b[1;32m----> <a href='vscode-notebook-cell:/c%3A/Users/Bartor/Desktop/super-resolution-analysis/code/prepare.ipynb#ch0000000?line=0'>1</a>\u001b[0m \u001b[39mfrom\u001b[39;00m \u001b[39mtqdm\u001b[39;00m \u001b[39mimport\u001b[39;00m tqdm\n\u001b[0;32m      <a href='vscode-notebook-cell:/c%3A/Users/Bartor/Desktop/super-resolution-analysis/code/prepare.ipynb#ch0000000?line=1'>2</a>\u001b[0m \u001b[39mimport\u001b[39;00m \u001b[39mcv2\u001b[39;00m\n\u001b[0;32m      <a href='vscode-notebook-cell:/c%3A/Users/Bartor/Desktop/super-resolution-analysis/code/prepare.ipynb#ch0000000?line=2'>3</a>\u001b[0m \u001b[39mimport\u001b[39;00m \u001b[39mos\u001b[39;00m\n",
      "\u001b[1;31mModuleNotFoundError\u001b[0m: No module named 'tqdm'"
     ]
    }
   ],
   "source": [
    "from tqdm import tqdm\n",
    "import cv2\n",
    "import os\n",
    "\n",
    "raw_data_path = \"../input/raw\"\n",
    "high_res_path = \"../input/high_res\"\n",
    "low_res_path = \"../input/low_res\"\n",
    "\n",
    "HIGH_RES_SIZE = 2016\n",
    "LOW_RES_SIZE = 992\n",
    "\n",
    "files = os.listdir(raw_data_path)\n",
    "\n",
    "for index, file in tqdm(enumerate(files)):\n",
    "    image = cv2.imread(f\"{raw_data_path}/{file}\")\n",
    "    width, height, *_ = image.shape\n",
    "    if width > height:\n",
    "        image = image[\n",
    "            (width // 2 - height // 2) : (width // 2 + height // 2),\n",
    "            :,\n",
    "        ]\n",
    "    else:\n",
    "        image = image[\n",
    "            :,\n",
    "            (height // 2 - width // 2) : (height // 2 + width // 2),\n",
    "        ]\n",
    "    high_res_image = cv2.resize(\n",
    "        image, (HIGH_RES_SIZE, HIGH_RES_SIZE), interpolation=cv2.INTER_AREA\n",
    "    )\n",
    "    low_res_image = cv2.resize(\n",
    "        image, (LOW_RES_SIZE, LOW_RES_SIZE), interpolation=cv2.INTER_AREA\n",
    "    )\n",
    "\n",
    "    # uncompressed png\n",
    "    cv2.imwrite(f\"{high_res_path}/{index}.png\", high_res_image)\n",
    "\n",
    "    # blocky, high-compression jpeg\n",
    "    cv2.imwrite(\n",
    "        f\"{low_res_path}/{index}.jpg\", low_res_image, [cv2.IMWRITE_JPEG_QUALITY, 80]\n",
    "    )\n"
   ]
  }
 ],
 "metadata": {
  "kernelspec": {
   "display_name": "Python 3.9.12 ('tfffff')",
   "language": "python",
   "name": "python3"
  },
  "language_info": {
   "codemirror_mode": {
    "name": "ipython",
    "version": 3
   },
   "file_extension": ".py",
   "mimetype": "text/x-python",
   "name": "python",
   "nbconvert_exporter": "python",
   "pygments_lexer": "ipython3",
   "version": "3.9.12"
  },
  "orig_nbformat": 4,
  "vscode": {
   "interpreter": {
    "hash": "eac61cb407b2f0272e161e852daec37aa2a5a3b58303619318e22928352543ec"
   }
  }
 },
 "nbformat": 4,
 "nbformat_minor": 2
}
